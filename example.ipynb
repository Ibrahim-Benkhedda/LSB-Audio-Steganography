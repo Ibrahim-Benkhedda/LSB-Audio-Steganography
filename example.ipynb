{
 "cells": [
  {
   "cell_type": "code",
   "execution_count": 1,
   "metadata": {},
   "outputs": [
    {
     "name": "stdout",
     "output_type": "stream",
     "text": [
      "Decoded message: I would tell you a UDP joke, but you might not get it.\n"
     ]
    }
   ],
   "source": [
    "from lsb import LSBAudioSteganography\n",
    "from lsb_encoder import LSBAudioEncoder\n",
    "from lsb_decoder import LSBAudioDecoder\n",
    "\n",
    "secret_message = \"I would tell you a UDP joke, but you might not get it.\"\n",
    "audio_filepath = \"example_audio.wav\"\n",
    "output_audio_filepath = \"embedded_audio.wav\"\n",
    "\n",
    "# For Encoding\n",
    "encoder = LSBAudioEncoder(audio_filepath)\n",
    "encoder.encode(secret_message, 42, output_audio_filepath)\n",
    "\n",
    "# For Decoding\n",
    "decoder = LSBAudioDecoder(output_audio_filepath)\n",
    "decoded_message = decoder.decode(42, len(secret_message))\n",
    "print(\"Decoded message:\", decoded_message)"
   ]
  }
 ],
 "metadata": {
  "kernelspec": {
   "display_name": "Python 3",
   "language": "python",
   "name": "python3"
  },
  "language_info": {
   "codemirror_mode": {
    "name": "ipython",
    "version": 3
   },
   "file_extension": ".py",
   "mimetype": "text/x-python",
   "name": "python",
   "nbconvert_exporter": "python",
   "pygments_lexer": "ipython3",
   "version": "3.11.5"
  }
 },
 "nbformat": 4,
 "nbformat_minor": 2
}
